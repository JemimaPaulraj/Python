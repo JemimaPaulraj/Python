{
 "cells": [
  {
   "cell_type": "markdown",
   "id": "06abdb9d",
   "metadata": {},
   "source": [
    "#                                              String"
   ]
  },
  {
   "cell_type": "markdown",
   "id": "c4991e9b",
   "metadata": {},
   "source": [
    "##### * Find the length of string"
   ]
  },
  {
   "cell_type": "code",
   "execution_count": 5,
   "id": "1c2c957f",
   "metadata": {},
   "outputs": [
    {
     "name": "stdout",
     "output_type": "stream",
     "text": [
      "8\n"
     ]
    }
   ],
   "source": [
    "word = \"godloves\"\n",
    "print(len(word))"
   ]
  },
  {
   "cell_type": "markdown",
   "id": "2bdaa7fa",
   "metadata": {},
   "source": [
    "##### * Get first 3 letters from string"
   ]
  },
  {
   "cell_type": "code",
   "execution_count": 12,
   "id": "ce716039",
   "metadata": {},
   "outputs": [
    {
     "name": "stdout",
     "output_type": "stream",
     "text": [
      "god\n"
     ]
    }
   ],
   "source": [
    "word = \"godloves\"\n",
    "print(word[:3])"
   ]
  },
  {
   "cell_type": "markdown",
   "id": "035aceef",
   "metadata": {},
   "source": [
    "##### * replace() - replacing the string with another"
   ]
  },
  {
   "cell_type": "code",
   "execution_count": 15,
   "id": "fd788c85",
   "metadata": {},
   "outputs": [
    {
     "name": "stdout",
     "output_type": "stream",
     "text": [
      " I love pink colour , i have a pink pen\n"
     ]
    }
   ],
   "source": [
    "word =\" I love black colour , i have a black pen\"\n",
    "result = word.replace(\"black\",\"pink\")\n",
    "print(result)"
   ]
  },
  {
   "cell_type": "markdown",
   "id": "64a53b77",
   "metadata": {},
   "source": [
    "##### * case sensitivity"
   ]
  },
  {
   "cell_type": "code",
   "execution_count": 4,
   "id": "a0d95015",
   "metadata": {},
   "outputs": [
    {
     "name": "stdout",
     "output_type": "stream",
     "text": [
      "GODLOVES\n",
      "godloves\n",
      "Godloves\n",
      "GODLOVES\n"
     ]
    }
   ],
   "source": [
    "word = \"godloves\"\n",
    "# converts into uppercase\n",
    "print(word.upper())\n",
    "\n",
    "# converts into lowercase\n",
    "print(word.lower())\n",
    "\n",
    "# converts the first letter into upper and rest to lower\n",
    "print(word.capitalize())\n",
    "\n",
    "# converts upper to lower and vise versa\n",
    "print(word.swapcase())"
   ]
  },
  {
   "cell_type": "markdown",
   "id": "eb4c98d4",
   "metadata": {},
   "source": [
    "##### * count the number of times the word occurs in the sentence"
   ]
  },
  {
   "cell_type": "code",
   "execution_count": 11,
   "id": "688e3d80",
   "metadata": {},
   "outputs": [
    {
     "name": "stdout",
     "output_type": "stream",
     "text": [
      "2\n",
      "3\n"
     ]
    }
   ],
   "source": [
    "word =\" my love black colour , i have a black pen\"\n",
    "result = word.count(\"black\")\n",
    "print(result)\n",
    "\n",
    "word =\"God is Good\"\n",
    "result = word.count(\"o\")\n",
    "print(result)"
   ]
  },
  {
   "cell_type": "markdown",
   "id": "b083642e",
   "metadata": {},
   "source": [
    "##### * endswith() and startswith()"
   ]
  },
  {
   "cell_type": "code",
   "execution_count": 6,
   "id": "a0267c73",
   "metadata": {},
   "outputs": [
    {
     "name": "stdout",
     "output_type": "stream",
     "text": [
      "True\n",
      "False\n"
     ]
    }
   ],
   "source": [
    "word =\" my love black colour , i have a black pen.\"\n",
    "if word.endswith(\".\"):\n",
    "    print(\"True\")\n",
    "    \n",
    "word =\"my love black colour , i have a black pen.\"\n",
    "if word.endswith(\"y\"):\n",
    "    print(\"True\")\n",
    "else:\n",
    "    print(\"False\")"
   ]
  },
  {
   "cell_type": "markdown",
   "id": "739fd52b",
   "metadata": {},
   "source": [
    "##### * find () ,index() - Find the first occurence of the word and specifies its index"
   ]
  },
  {
   "cell_type": "code",
   "execution_count": 14,
   "id": "e9c7a3e5",
   "metadata": {},
   "outputs": [
    {
     "name": "stdout",
     "output_type": "stream",
     "text": [
      "8\n",
      "1\n"
     ]
    }
   ],
   "source": [
    "word =\"my love black colour , i have a black pen\"\n",
    "result = word.find(\"black\")\n",
    "print(result)\n",
    "\n",
    "word =\"God is Good\"\n",
    "result = word.index(\"o\")\n",
    "print(result)"
   ]
  },
  {
   "cell_type": "markdown",
   "id": "f2cb090c",
   "metadata": {},
   "source": [
    "##### * rfind () ,rindex() - Find the last occurence of the word and specifies its index"
   ]
  },
  {
   "cell_type": "code",
   "execution_count": 17,
   "id": "0c58c19e",
   "metadata": {},
   "outputs": [
    {
     "name": "stdout",
     "output_type": "stream",
     "text": [
      "9\n",
      "9\n"
     ]
    }
   ],
   "source": [
    "word =\"God is Good\"\n",
    "result = word.rfind(\"o\")\n",
    "print(result)\n",
    "\n",
    "word =\"God is Good\"\n",
    "result = word.rindex(\"o\")\n",
    "print(result)"
   ]
  },
  {
   "cell_type": "markdown",
   "id": "fa40676b",
   "metadata": {},
   "source": [
    "### Checking"
   ]
  },
  {
   "cell_type": "code",
   "execution_count": 11,
   "id": "89ceae1d",
   "metadata": {},
   "outputs": [
    {
     "name": "stdout",
     "output_type": "stream",
     "text": [
      "True\n",
      "False\n",
      "True\n",
      "True\n",
      "False\n"
     ]
    }
   ],
   "source": [
    "word =\"god\"\n",
    "#Returns True if all characters in the string are lower case\n",
    "print(word.islower())\n",
    "\n",
    "#Returns True if all characters in the string are upper case\n",
    "print(word.isupper())\n",
    "\n",
    "#Returns True if all characters in the string are alphabets and numeric\n",
    "print(word.isalnum())\n",
    "\n",
    "#Returns True if all characters in the string are alphabets\n",
    "print(word.isalpha())\n",
    "\n",
    "#Returns True if all characters in the string are numeric\n",
    "print(word.isnumeric())"
   ]
  },
  {
   "cell_type": "markdown",
   "id": "d22b910f",
   "metadata": {},
   "source": [
    "##### * join()  "
   ]
  },
  {
   "cell_type": "markdown",
   "id": "cdc5d928",
   "metadata": {},
   "source": [
    "seperator.join(string iterables)"
   ]
  },
  {
   "cell_type": "code",
   "execution_count": 14,
   "id": "39273d90",
   "metadata": {},
   "outputs": [
    {
     "name": "stdout",
     "output_type": "stream",
     "text": [
      "Tuple : hi#hello#bye\n",
      "List : hi#hello#bye\n",
      "Dictionary : name#country\n"
     ]
    }
   ],
   "source": [
    "word =(\"hi\",\"hello\",\"bye\")\n",
    "result = \"#\".join(word)\n",
    "print(\"Tuple :\",result)\n",
    "\n",
    "word =[\"hi\",\"hello\",\"bye\"]\n",
    "result = \"#\".join(word)\n",
    "print(\"List :\",result)\n",
    "\n",
    "word ={\"name\": \"John\", \"country\": \"Norway\"}\n",
    "result = \"#\".join(word)\n",
    "print(\"Dictionary :\",result)\n",
    "\n"
   ]
  },
  {
   "cell_type": "markdown",
   "id": "37ee522b",
   "metadata": {},
   "source": [
    "##### * split() - used to split and returns a list"
   ]
  },
  {
   "cell_type": "code",
   "execution_count": 3,
   "id": "8787c7fd",
   "metadata": {},
   "outputs": [
    {
     "name": "stdout",
     "output_type": "stream",
     "text": [
      "['hi', 'hello', 'bye']\n",
      "hi hello bye\n",
      "['hi', 'hello', 'bye']\n"
     ]
    }
   ],
   "source": [
    "word =\"hi hello bye\"\n",
    "print(word.split(\" \"))\n",
    "\n",
    "word = input().split()\n",
    "print(word)"
   ]
  },
  {
   "cell_type": "markdown",
   "id": "4b8fe7eb",
   "metadata": {},
   "source": [
    "##### * strip() - Remove spaces at the beginning and at the end of the string"
   ]
  },
  {
   "cell_type": "code",
   "execution_count": 20,
   "id": "04945de0",
   "metadata": {},
   "outputs": [
    {
     "name": "stdout",
     "output_type": "stream",
     "text": [
      "God\n"
     ]
    }
   ],
   "source": [
    "word = \"    God    \"\n",
    "result = word.strip()\n",
    "print(result)"
   ]
  },
  {
   "cell_type": "markdown",
   "id": "ff4c6f26",
   "metadata": {},
   "source": [
    "##### * splitlines() - split the string to list where each line is a list item "
   ]
  },
  {
   "cell_type": "code",
   "execution_count": 19,
   "id": "9e833f1a",
   "metadata": {},
   "outputs": [
    {
     "name": "stdout",
     "output_type": "stream",
     "text": [
      "['hi', 'hello', 'bye']\n"
     ]
    }
   ],
   "source": [
    "word =\"hi\\nhello\\nbye\"\n",
    "print(word.splitlines())"
   ]
  },
  {
   "cell_type": "markdown",
   "id": "5545c241",
   "metadata": {},
   "source": [
    "##### * expandtabs() -  sets the tab size to the specified number of whitespaces."
   ]
  },
  {
   "cell_type": "markdown",
   "id": "bb78ef22",
   "metadata": {},
   "source": [
    "Syntax: string.expandtabs(tabsize)"
   ]
  },
  {
   "cell_type": "code",
   "execution_count": 9,
   "id": "f60b26da",
   "metadata": {},
   "outputs": [
    {
     "name": "stdout",
     "output_type": "stream",
     "text": [
      "G o d\n"
     ]
    }
   ],
   "source": [
    "word = \"G\\to\\td\"\n",
    "result = word.expandtabs(2)\n",
    "print(result)"
   ]
  },
  {
   "cell_type": "code",
   "execution_count": null,
   "id": "9ceac584",
   "metadata": {},
   "outputs": [],
   "source": []
  }
 ],
 "metadata": {
  "kernelspec": {
   "display_name": "Python 3 (ipykernel)",
   "language": "python",
   "name": "python3"
  },
  "language_info": {
   "codemirror_mode": {
    "name": "ipython",
    "version": 3
   },
   "file_extension": ".py",
   "mimetype": "text/x-python",
   "name": "python",
   "nbconvert_exporter": "python",
   "pygments_lexer": "ipython3",
   "version": "3.10.9"
  }
 },
 "nbformat": 4,
 "nbformat_minor": 5
}
