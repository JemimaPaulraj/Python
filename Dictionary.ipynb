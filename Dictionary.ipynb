{
 "cells": [
  {
   "cell_type": "markdown",
   "id": "2a6b47a9",
   "metadata": {},
   "source": [
    "# DICTIONARY"
   ]
  },
  {
   "cell_type": "markdown",
   "id": "ef2d8b8b",
   "metadata": {},
   "source": [
    "##### * get the value of the key"
   ]
  },
  {
   "cell_type": "code",
   "execution_count": 2,
   "id": "5e117101",
   "metadata": {},
   "outputs": [
    {
     "name": "stdout",
     "output_type": "stream",
     "text": [
      "4\n",
      "1\n"
     ]
    }
   ],
   "source": [
    "x= {2: 4, 3: 4, 1: 3, 4: 2, 5: 1}\n",
    "print(x.get(2))\n",
    "\n",
    "x= {2: 4, 3: 4, 1: 3, 4: 2, 5: 1}\n",
    "print(x[5])"
   ]
  },
  {
   "cell_type": "markdown",
   "id": "0247b33b",
   "metadata": {},
   "source": [
    "##### * get the key based on the value "
   ]
  },
  {
   "cell_type": "code",
   "execution_count": 6,
   "id": "9892adf6",
   "metadata": {},
   "outputs": [
    {
     "name": "stdout",
     "output_type": "stream",
     "text": [
      "2\n",
      "3\n"
     ]
    }
   ],
   "source": [
    "x= {2: 4, 3: 4, 1: 3, 4: 2, 5: 1}\n",
    "for key,value in x.items():\n",
    "    if value == 4:\n",
    "        print(key)"
   ]
  },
  {
   "cell_type": "markdown",
   "id": "c509ebad",
   "metadata": {},
   "source": [
    "##### * len() - Finds the length of the dictionary"
   ]
  },
  {
   "cell_type": "code",
   "execution_count": 7,
   "id": "6130086b",
   "metadata": {},
   "outputs": [
    {
     "name": "stdout",
     "output_type": "stream",
     "text": [
      "5\n"
     ]
    }
   ],
   "source": [
    "x= {2: 4, 3: 4, 1: 3, 4: 2, 5: 1}\n",
    "print(len(x))"
   ]
  },
  {
   "cell_type": "markdown",
   "id": "264963bf",
   "metadata": {},
   "source": [
    "##### * Access key and value in the dictionary"
   ]
  },
  {
   "cell_type": "code",
   "execution_count": 9,
   "id": "04f2720f",
   "metadata": {},
   "outputs": [
    {
     "name": "stdout",
     "output_type": "stream",
     "text": [
      "2 4\n",
      "3 4\n",
      "1 3\n"
     ]
    }
   ],
   "source": [
    "x= {2: 4, 3: 4, 1: 3}\n",
    "for key,value in x.items():\n",
    "    print(key,value)"
   ]
  },
  {
   "cell_type": "markdown",
   "id": "57636941",
   "metadata": {},
   "source": [
    "##### * Count each element in list"
   ]
  },
  {
   "cell_type": "code",
   "execution_count": 10,
   "id": "bc0a115f",
   "metadata": {},
   "outputs": [
    {
     "name": "stdout",
     "output_type": "stream",
     "text": [
      "Counter({2: 4, 3: 4, 1: 3, 4: 2, 5: 1})\n"
     ]
    }
   ],
   "source": [
    "from collections import Counter\n",
    "myList = [1,1,2,3,4,5,3,2,3,4,2,1,2,3]\n",
    "print(Counter(myList))"
   ]
  },
  {
   "cell_type": "markdown",
   "id": "e097045c",
   "metadata": {},
   "source": [
    "##### * get integers as input and convert into dictionary"
   ]
  },
  {
   "cell_type": "code",
   "execution_count": 11,
   "id": "80ef5c38",
   "metadata": {},
   "outputs": [
    {
     "name": "stdout",
     "output_type": "stream",
     "text": [
      "2 33\n",
      "3 44\n",
      "4 55\n",
      "{2: 33, 3: 44, 4: 55}\n"
     ]
    }
   ],
   "source": [
    "dict1={}\n",
    "i=1\n",
    "while(i<= 3):\n",
    "    shoe_size,price = map(int,input().split(\" \"))\n",
    "    key = shoe_size\n",
    "    value =price\n",
    "    dict1[key]=value\n",
    "    i=i+1\n",
    "print(dict1)"
   ]
  },
  {
   "cell_type": "markdown",
   "id": "53cdd858",
   "metadata": {},
   "source": [
    "##### * Sorting based on key"
   ]
  },
  {
   "cell_type": "code",
   "execution_count": 13,
   "id": "70c0712f",
   "metadata": {},
   "outputs": [
    {
     "name": "stdout",
     "output_type": "stream",
     "text": [
      "It only gives tuple [(1, 3), (2, 4), (3, 4), (4, 2), (5, 1)]\n",
      "{1: 3, 2: 4, 3: 4, 4: 2, 5: 1}\n",
      "{5: 1, 4: 2, 3: 4, 2: 4, 1: 3}\n"
     ]
    }
   ],
   "source": [
    "# sorting in ascending order\n",
    "x= {2: 4, 3: 4, 1: 3, 4: 2, 5: 1}\n",
    "y = sorted(x.items())\n",
    "print(\"It only gives tuple\",y)\n",
    "y = dict(sorted(x.items()))\n",
    "print(y)\n",
    "\n",
    "# sorting in descending order\n",
    "x= {2: 4, 3: 4, 1: 3, 4: 2, 5: 1}\n",
    "y = dict(sorted(x.items(),reverse= True))\n",
    "print(y)"
   ]
  },
  {
   "cell_type": "markdown",
   "id": "f130c175",
   "metadata": {},
   "source": [
    "##### * Sorting based on value"
   ]
  },
  {
   "cell_type": "code",
   "execution_count": 15,
   "id": "90a9fd67",
   "metadata": {},
   "outputs": [
    {
     "name": "stdout",
     "output_type": "stream",
     "text": [
      "{5: 1, 4: 2, 1: 3, 2: 4, 3: 4}\n",
      "{2: 4, 3: 4, 1: 3, 4: 2, 5: 1}\n"
     ]
    }
   ],
   "source": [
    "# sorting in ascending order\n",
    "x= {2: 4, 3: 4, 1: 3, 4: 2, 5: 1}\n",
    "y = dict(sorted(x.items(),key=lambda item: item[1]))\n",
    "print(y)\n",
    "\n",
    "y = dict(sorted(x.items(),key=lambda item: item[1],reverse=True))\n",
    "print(y)\n"
   ]
  },
  {
   "cell_type": "markdown",
   "id": "fa40426c",
   "metadata": {},
   "source": [
    "##### keys(),values() - get the keys and values in dictionary "
   ]
  },
  {
   "cell_type": "code",
   "execution_count": 16,
   "id": "fa8a7d1c",
   "metadata": {},
   "outputs": [
    {
     "name": "stdout",
     "output_type": "stream",
     "text": [
      "dict_keys(['brand', 'model', 'year'])\n",
      "dict_values(['Ford', 'Mustang', 1964])\n"
     ]
    }
   ],
   "source": [
    "car = {\n",
    "  \"brand\": \"Ford\",\n",
    "  \"model\": \"Mustang\",\n",
    "  \"year\": 1964\n",
    "}\n",
    "#printing keys\n",
    "print(car.keys())\n",
    "\n",
    "#printing values\n",
    "print(car.values())"
   ]
  },
  {
   "cell_type": "code",
   "execution_count": null,
   "id": "92ed3354",
   "metadata": {},
   "outputs": [],
   "source": []
  }
 ],
 "metadata": {
  "kernelspec": {
   "display_name": "Python 3 (ipykernel)",
   "language": "python",
   "name": "python3"
  },
  "language_info": {
   "codemirror_mode": {
    "name": "ipython",
    "version": 3
   },
   "file_extension": ".py",
   "mimetype": "text/x-python",
   "name": "python",
   "nbconvert_exporter": "python",
   "pygments_lexer": "ipython3",
   "version": "3.10.9"
  }
 },
 "nbformat": 4,
 "nbformat_minor": 5
}
