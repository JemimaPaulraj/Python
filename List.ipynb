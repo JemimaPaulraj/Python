{
 "cells": [
  {
   "cell_type": "markdown",
   "id": "7a393db0",
   "metadata": {},
   "source": [
    "# LIST"
   ]
  },
  {
   "cell_type": "markdown",
   "id": "fe60e866",
   "metadata": {},
   "source": [
    "##### * get input as list"
   ]
  },
  {
   "cell_type": "code",
   "execution_count": 4,
   "id": "991c2c73",
   "metadata": {},
   "outputs": [
    {
     "name": "stdout",
     "output_type": "stream",
     "text": [
      "1 2 3 4 5\n",
      "[1, 2, 3, 4, 5]\n"
     ]
    }
   ],
   "source": [
    "x = list(map(int,input().split(\" \")))\n",
    "print(x)"
   ]
  },
  {
   "cell_type": "markdown",
   "id": "017860e4",
   "metadata": {},
   "source": [
    "##### * len() -get the length of list"
   ]
  },
  {
   "cell_type": "code",
   "execution_count": 5,
   "id": "b672e550",
   "metadata": {},
   "outputs": [
    {
     "name": "stdout",
     "output_type": "stream",
     "text": [
      "6\n"
     ]
    }
   ],
   "source": [
    "x =[2,6,2,1,0,7]\n",
    "print(len(x))"
   ]
  },
  {
   "cell_type": "markdown",
   "id": "0e60416f",
   "metadata": {},
   "source": [
    "##### * Sort() - sorting the list in ascending and descending"
   ]
  },
  {
   "cell_type": "code",
   "execution_count": 8,
   "id": "8c3784f0",
   "metadata": {},
   "outputs": [
    {
     "name": "stdout",
     "output_type": "stream",
     "text": [
      "[0, 1, 2, 2, 6, 7]\n",
      "[7, 6, 2, 2, 1, 0]\n"
     ]
    }
   ],
   "source": [
    "x =[2,6,2,1,0,7]\n",
    "x.sort()\n",
    "print(x)\n",
    "\n",
    "x =[2,6,2,1,0,7]\n",
    "x.sort(reverse = True)\n",
    "print(x)"
   ]
  },
  {
   "cell_type": "markdown",
   "id": "e59f9349",
   "metadata": {},
   "source": [
    "##### * append() - appends the value to the list "
   ]
  },
  {
   "cell_type": "code",
   "execution_count": 3,
   "id": "acaf27eb",
   "metadata": {},
   "outputs": [
    {
     "name": "stdout",
     "output_type": "stream",
     "text": [
      "[1, 2, 3, 4]\n"
     ]
    }
   ],
   "source": [
    "x =[1,2,3]\n",
    "y = x.append(4)\n",
    "print(x)"
   ]
  },
  {
   "cell_type": "markdown",
   "id": "c4276797",
   "metadata": {},
   "source": [
    "##### * insert() - method inserts a given element at a given index in a list using Python. "
   ]
  },
  {
   "cell_type": "markdown",
   "id": "638a9a79",
   "metadata": {},
   "source": [
    "Syntax: list_name.insert(index, element)"
   ]
  },
  {
   "cell_type": "code",
   "execution_count": 2,
   "id": "f24189bc",
   "metadata": {},
   "outputs": [
    {
     "name": "stdout",
     "output_type": "stream",
     "text": [
      "[5]\n"
     ]
    }
   ],
   "source": [
    "x =[]\n",
    "y = x.insert(0,5)\n",
    "print(x)"
   ]
  },
  {
   "cell_type": "markdown",
   "id": "98ced186",
   "metadata": {},
   "source": [
    "##### * pop() - removes the element in particular index"
   ]
  },
  {
   "cell_type": "markdown",
   "id": "4bf92ef8",
   "metadata": {},
   "source": [
    "syntax:list.pop(position)"
   ]
  },
  {
   "cell_type": "code",
   "execution_count": 9,
   "id": "b20e1241",
   "metadata": {},
   "outputs": [
    {
     "name": "stdout",
     "output_type": "stream",
     "text": [
      "[2, 3]\n"
     ]
    }
   ],
   "source": [
    "x =[1,2,3]\n",
    "y = x.pop(0)\n",
    "print(x)"
   ]
  },
  {
   "cell_type": "markdown",
   "id": "ca5bca0d",
   "metadata": {},
   "source": [
    "##### * remove() - removes the particular element"
   ]
  },
  {
   "cell_type": "code",
   "execution_count": 10,
   "id": "adcbc053",
   "metadata": {},
   "outputs": [
    {
     "name": "stdout",
     "output_type": "stream",
     "text": [
      "[2, 3]\n"
     ]
    }
   ],
   "source": [
    "x =[1,2,3]\n",
    "y = x.remove(1)\n",
    "print(x)"
   ]
  },
  {
   "cell_type": "markdown",
   "id": "c1a8dc12",
   "metadata": {},
   "source": [
    "##### * reverse() - reverse the order of list elements"
   ]
  },
  {
   "cell_type": "code",
   "execution_count": 7,
   "id": "fdb05641",
   "metadata": {},
   "outputs": [
    {
     "name": "stdout",
     "output_type": "stream",
     "text": [
      "[3, 2, 1]\n",
      "[3, 2, 1]\n"
     ]
    }
   ],
   "source": [
    "x =[1,2,3]\n",
    "x.reverse()\n",
    "print(x)\n",
    "\n",
    "x =[1,2,3]\n",
    "print(x[::-1])"
   ]
  },
  {
   "cell_type": "markdown",
   "id": "6ab15c4e",
   "metadata": {},
   "source": [
    "##### * extend() - combines the two list "
   ]
  },
  {
   "cell_type": "code",
   "execution_count": 12,
   "id": "2fef0dd6",
   "metadata": {},
   "outputs": [
    {
     "name": "stdout",
     "output_type": "stream",
     "text": [
      "[1, 2, 3, 4, 5, 6]\n"
     ]
    }
   ],
   "source": [
    "x =[1,2,3]\n",
    "y=[4,5,6]\n",
    "z=x.extend(y)\n",
    "print(x)"
   ]
  },
  {
   "cell_type": "markdown",
   "id": "e8cd106f",
   "metadata": {},
   "source": [
    "##### * copy() - copies from one list to another "
   ]
  },
  {
   "cell_type": "code",
   "execution_count": 13,
   "id": "d55ac6ae",
   "metadata": {},
   "outputs": [
    {
     "name": "stdout",
     "output_type": "stream",
     "text": [
      "[1, 2, 3]\n"
     ]
    }
   ],
   "source": [
    "x=[1,2,3]\n",
    "y=x.copy()\n",
    "print(y)"
   ]
  },
  {
   "cell_type": "markdown",
   "id": "ef327a03",
   "metadata": {},
   "source": [
    "##### * index() - Get the index of particular element in the list"
   ]
  },
  {
   "cell_type": "code",
   "execution_count": 15,
   "id": "429417b8",
   "metadata": {},
   "outputs": [
    {
     "name": "stdout",
     "output_type": "stream",
     "text": [
      "2\n"
     ]
    }
   ],
   "source": [
    "x=[1,2,3]\n",
    "print(x.index(3))"
   ]
  },
  {
   "cell_type": "markdown",
   "id": "b8fba638",
   "metadata": {},
   "source": [
    "##### * count() - count the number of times the particular element present in the list"
   ]
  },
  {
   "cell_type": "code",
   "execution_count": 16,
   "id": "250b2fb9",
   "metadata": {},
   "outputs": [
    {
     "name": "stdout",
     "output_type": "stream",
     "text": [
      "4\n"
     ]
    }
   ],
   "source": [
    "x=[1,2,3,2,2,1,5,2]\n",
    "print(x.count(2))"
   ]
  }
 ],
 "metadata": {
  "kernelspec": {
   "display_name": "Python 3 (ipykernel)",
   "language": "python",
   "name": "python3"
  },
  "language_info": {
   "codemirror_mode": {
    "name": "ipython",
    "version": 3
   },
   "file_extension": ".py",
   "mimetype": "text/x-python",
   "name": "python",
   "nbconvert_exporter": "python",
   "pygments_lexer": "ipython3",
   "version": "3.10.9"
  }
 },
 "nbformat": 4,
 "nbformat_minor": 5
}
